{
 "cells": [
  {
   "cell_type": "markdown",
   "source": [
    "Import libs"
   ],
   "metadata": {}
  },
  {
   "cell_type": "code",
   "execution_count": 1,
   "source": [
    "from codetiming import Timer\r\n",
    "from sympy import proper_divisors"
   ],
   "outputs": [],
   "metadata": {}
  },
  {
   "cell_type": "markdown",
   "source": [
    "Preparation"
   ],
   "metadata": {}
  },
  {
   "cell_type": "code",
   "execution_count": 2,
   "source": [
    "watcher = Timer()\r\n",
    "l = [2, 5]\r\n",
    "x = 471472556878"
   ],
   "outputs": [],
   "metadata": {}
  },
  {
   "cell_type": "markdown",
   "source": [
    "Define testing functions\n"
   ],
   "metadata": {
    "pycharm": {
     "name": "#%% md\n"
    }
   }
  },
  {
   "cell_type": "code",
   "execution_count": 3,
   "source": [
    "@watcher\r\n",
    "def test_1(n):\r\n",
    "    for v in l:\r\n",
    "        while not n % v:\r\n",
    "            n //= v\r\n",
    "\r\n",
    "    print(n)\r\n",
    "\r\n",
    "\r\n",
    "@watcher\r\n",
    "def test_2(n):\r\n",
    "    def pred(v):\r\n",
    "        return all(v % e for e in l)\r\n",
    "\r\n",
    "    print(max(filter(pred, reversed(proper_divisors(n)))))\r\n",
    "\r\n",
    "\r\n",
    "@watcher\r\n",
    "def test_3():\r\n",
    "    pass"
   ],
   "outputs": [],
   "metadata": {
    "pycharm": {
     "name": "#%%\n"
    }
   }
  },
  {
   "cell_type": "markdown",
   "source": [
    "Runner"
   ],
   "metadata": {}
  },
  {
   "cell_type": "code",
   "execution_count": 4,
   "source": [
    "if __name__ == \"__main__\":\r\n",
    "    test_1(x)\r\n",
    "    test_2(x)\r\n",
    "    test_3()"
   ],
   "outputs": [
    {
     "output_type": "stream",
     "name": "stdout",
     "text": [
      "235736278439\n",
      "Elapsed time: 0.0003 seconds\n",
      "235736278439\n",
      "Elapsed time: 0.0070 seconds\n",
      "Elapsed time: 0.0000 seconds\n"
     ]
    }
   ],
   "metadata": {
    "pycharm": {
     "name": "#%%\n"
    }
   }
  },
  {
   "cell_type": "code",
   "execution_count": null,
   "source": [],
   "outputs": [],
   "metadata": {}
  }
 ],
 "metadata": {
  "kernelspec": {
   "name": "python3",
   "display_name": "Python 3.9.6 64-bit ('laboratory-o1VsM45V-py3.9': poetry)"
  },
  "language_info": {
   "codemirror_mode": {
    "name": "ipython",
    "version": 3
   },
   "file_extension": ".py",
   "mimetype": "text/x-python",
   "name": "python",
   "nbconvert_exporter": "python",
   "pygments_lexer": "ipython3",
   "version": "3.9.6"
  },
  "latex_envs": {
   "LaTeX_envs_menu_present": true,
   "autoclose": false,
   "autocomplete": true,
   "bibliofile": "biblio.bib",
   "cite_by": "apalike",
   "current_citInitial": 1,
   "eqLabelWithNumbers": true,
   "eqNumInitial": 1,
   "hotkeys": {
    "equation": "Ctrl-E",
    "itemize": "Ctrl-I"
   },
   "labels_anchors": false,
   "latex_user_defs": false,
   "report_style_numbering": false,
   "user_envs_cfg": false
  },
  "interpreter": {
   "hash": "56cb6a0e06096ce78e01a0ee9ef2947a9823ebc7e4ba13986c8ff1326e14b1a9"
  }
 },
 "nbformat": 4,
 "nbformat_minor": 5
}